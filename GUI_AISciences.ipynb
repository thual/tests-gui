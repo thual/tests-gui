{
  "nbformat": 4,
  "nbformat_minor": 0,
  "metadata": {
    "colab": {
      "name": "GUI-AISciences.ipynb",
      "provenance": [],
      "authorship_tag": "ABX9TyM9fq6irqGzx/7Hl05POkU8",
      "include_colab_link": true
    },
    "kernelspec": {
      "name": "python3",
      "display_name": "Python 3"
    },
    "language_info": {
      "name": "python"
    }
  },
  "cells": [
    {
      "cell_type": "markdown",
      "metadata": {
        "id": "view-in-github",
        "colab_type": "text"
      },
      "source": [
        "<a href=\"https://colab.research.google.com/github/thual/tests-gui/blob/main/GUI_AISciences.ipynb\" target=\"_parent\"><img src=\"https://colab.research.google.com/assets/colab-badge.svg\" alt=\"Open In Colab\"/></a>"
      ]
    },
    {
      "cell_type": "code",
      "metadata": {
        "id": "yknfKa3Y0bwi",
        "colab": {
          "base_uri": "https://localhost:8080/"
        },
        "outputId": "6eca2480-33d5-48ca-cb3e-987a83ef31a6"
      },
      "source": [
        "#@title mon titre\n",
        "\n",
        "one=\"1st\"\n",
        "two='2nd'\n",
        "\n",
        "\n",
        "text=\"90\" #@param{type:\"string\"}\n",
        "Fla = \"random value\" #@param [\"first\",\"second\"]{allow-input:true}\n",
        "Fla = \"new value\" #@param [\"first\",\"second\"]{allow-input:true}\n",
        "\n",
        "\n",
        "N=\"Dimension of the control space\" #@param{type:\"string\"} \n",
        "\n",
        "\n",
        "print(text)\n",
        "print(\"N=\",N)\n",
        "print(\"\")\n",
        "\n",
        "\n"
      ],
      "execution_count": null,
      "outputs": [
        {
          "output_type": "stream",
          "name": "stdout",
          "text": [
            "90\n",
            "N= Dimension of the control space\n",
            "\n"
          ]
        }
      ]
    },
    {
      "cell_type": "code",
      "source": [
        "#@title Raw\n",
        "text=\"i am a string\" #@param{type:\"string\"}\n",
        "input=90 #@param{type:\"raw\"}\n",
        "\n",
        "print(text, input)"
      ],
      "metadata": {
        "colab": {
          "base_uri": "https://localhost:8080/"
        },
        "id": "MX88wAfn0rYi",
        "outputId": "4eea297f-ceb1-44e1-e50d-3845758a8f7b"
      },
      "execution_count": null,
      "outputs": [
        {
          "output_type": "stream",
          "name": "stdout",
          "text": [
            "i am a string 90\n"
          ]
        }
      ]
    },
    {
      "cell_type": "code",
      "source": [
        "#@title Date\n",
        "date=\"2022-02-18\" #@param{type:\"date\"}\n",
        "print(date)"
      ],
      "metadata": {
        "colab": {
          "base_uri": "https://localhost:8080/"
        },
        "id": "pw43SeWl1qmn",
        "outputId": "27b9bec2-5d1a-4b9e-c445-52c28e28bb42"
      },
      "execution_count": null,
      "outputs": [
        {
          "output_type": "stream",
          "name": "stdout",
          "text": [
            "2022-02-18\n"
          ]
        }
      ]
    },
    {
      "cell_type": "code",
      "source": [
        "#@title Numbers {run:\"auto\"}\n",
        "Ymin=10.0 #@param{type:\"number\"}\n",
        "Slider= 3.4 #@param{type:\"slider\",min:0, max:10,step:0.1}\n",
        "Slider2= 3.3 #@param{type:\"slider\",min:0, max:10,step:0.1}\n",
        "\n",
        "print(Slider,Slider2)"
      ],
      "metadata": {
        "colab": {
          "base_uri": "https://localhost:8080/"
        },
        "id": "OjuO-YEN17_9",
        "outputId": "14e9a7c1-aa12-436c-c495-817fc0e38b12"
      },
      "execution_count": null,
      "outputs": [
        {
          "output_type": "stream",
          "name": "stdout",
          "text": [
            "3.4 3.3\n"
          ]
        }
      ]
    },
    {
      "cell_type": "code",
      "source": [
        "#@title Bool\n",
        "boolc= False #@param{type:\"boolean\"}\n",
        "boold=True #@param[\"False\",\"True\"] {type:\"raw\"}"
      ],
      "metadata": {
        "id": "Nmt6kor43KFS"
      },
      "execution_count": null,
      "outputs": []
    },
    {
      "cell_type": "code",
      "source": [
        "#@title Run {run:\"auto\"}\n",
        "\n",
        "opt=\"A\" #@param{\"A\",\"B\",\"C\"}"
      ],
      "metadata": {
        "id": "eYQRCx273k4W"
      },
      "execution_count": null,
      "outputs": []
    }
  ]
}